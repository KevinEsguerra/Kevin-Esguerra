{
  "nbformat": 4,
  "nbformat_minor": 0,
  "metadata": {
    "colab": {
      "name": "Assignment1.ipynb",
      "version": "0.3.2",
      "provenance": [],
      "include_colab_link": true
    },
    "kernelspec": {
      "name": "python3",
      "display_name": "Python 3"
    }
  },
  "cells": [
    {
      "cell_type": "markdown",
      "metadata": {
        "id": "view-in-github",
        "colab_type": "text"
      },
      "source": [
        "<a href=\"https://colab.research.google.com/github/KevinSWarrior/Kevin-Esguerra/blob/master/Assignment1.ipynb\" target=\"_parent\"><img src=\"https://colab.research.google.com/assets/colab-badge.svg\" alt=\"Open In Colab\"/></a>"
      ]
    },
    {
      "cell_type": "markdown",
      "metadata": {
        "id": "5O_vBrgukWlI",
        "colab_type": "text"
      },
      "source": [
        "Hi my name is Kevin. I'm interested in learning python. I do have some research and data analysis experience but have very little experience with programming. I believe that Python would be a very valuable skills to have especially in the data science field.\n",
        "\n",
        "For this assignment, I was able to apply what I've learned so far from the Nova Instutes' Python course such as variables, inputs, and if statements.\n",
        "\n",
        "I really enjoy trivia games so I decided to create a fun trivia quiz!"
      ]
    },
    {
      "cell_type": "code",
      "metadata": {
        "id": "PqZaw871py95",
        "colab_type": "code",
        "outputId": "13475062-424c-4516-d733-c17484614787",
        "colab": {
          "base_uri": "https://localhost:8080/",
          "height": 286
        }
      },
      "source": [
        "score = 0\n",
        "\n",
        "\n",
        "answer1 = input('What is the capital city of Australia?')\n",
        "if answer1 == 'canberra':\n",
        "  print('Excellent job!')\n",
        "  score = (1 + score)\n",
        "  print(score)\n",
        "elif answer1 == 'sydney':\n",
        "  print('''Sydney is the largest city in Australia but it's not the capital city''')\n",
        "  print(score)\n",
        "elif answer1 == 'melbourne':\n",
        "  print('''Melbourne is a popular destination but that's not the capital city''')\n",
        "  print(score)\n",
        "elif answer1 == 'Perth':\n",
        "  print('Oops wrong answer')\n",
        "  print(score)\n",
        "else:\n",
        "  print('Sorry but {} is wrong, you should study more'.format(answer1))\n",
        "  print(score)\n",
        "\n",
        "answer2 = input('What is the fastest animal?' )\n",
        "if answer2 == 'peregrine falcon':\n",
        "  print('Excellent job!')\n",
        "  score = (1 + score)\n",
        "  print(score)\n",
        "elif answer2 == 'cheetah':\n",
        "  print('Wrong! However, cheetah is the fastest mammal!')\n",
        "  print(score)\n",
        "elif answer2 == 'black marlin':\n",
        "  print('Nope! However, black marlin is the fastest fish!')\n",
        "  print(score)\n",
        "else:\n",
        "  print('Sorry but {} is wrong, you should study more'.format(answer2))\n",
        "  print(score)\n",
        "\n",
        "answer3 = input('Which band perfomed in all seven continents? ')\n",
        "if answer3 == 'metallica':\n",
        "  print('Excellent job!')\n",
        "  score = (1 + score)\n",
        "  print(score)\n",
        "elif answer3 == 'aerosmith':\n",
        "  print('''Aerosmith is great but it's not them''')\n",
        "  print (score)\n",
        "elif answer3 == 'linkin park':\n",
        "  print('''I love Linkin Park but that's not the right answer''')\n",
        "  print (score)\n",
        "else:\n",
        "  print('Sorry but {} is wrong, you should study more'.format(answer3))\n",
        "  print (score)\n",
        "\n",
        "answer4 = input(''''Which country was the Caesar salad invented in? ''')\n",
        "if answer4 == 'mexico':\n",
        "  print('Excellent job!')\n",
        "  score = (1 + score)\n",
        "  print(score)\n",
        "elif answer4 == 'italy':\n",
        "  print('The man who invented Caesar salad was born in Italy')\n",
        "  print(score)\n",
        "elif answer4 == 'greece':\n",
        "  print('''I like Greek salad but it's not the same as Caesar salad''')\n",
        "  print(score)\n",
        "else:\n",
        "  print('Sorry but {} is wrong, you should study more'.format(answer4))\n",
        "  print(score)\n",
        "\n",
        "answer5 = input(''''Harry Potter was born in year: ? ''')\n",
        "if answer5 == '1980':\n",
        "  print('Excellent job!')\n",
        "  score = (1 + score)\n",
        "  print(score)\n",
        "  print (score)\n",
        "elif answer5 == '1990':\n",
        "  print('Wrong answer!')\n",
        "  print(score)\n",
        "elif answer5 == '1985':\n",
        "  print('Close but not quite!')\n",
        "  print(score)\n",
        "else:\n",
        "  print('Sorry but {} is wrong, you should study more'.format(answer5))\n",
        "  print (score)\n",
        "  \n",
        "print('You got {} out of 5'.format(score))\n"
      ],
      "execution_count": 35,
      "outputs": [
        {
          "output_type": "stream",
          "text": [
            "What is the capital city of Australia?c\n",
            "Sorry but c is wrong, you should study more\n",
            "0\n",
            "What is the fastest animal?c\n",
            "Sorry but c is wrong, you should study more\n",
            "0\n",
            "Which band perfomed in all seven continents? c\n",
            "Sorry but c is wrong, you should study more\n",
            "0\n",
            "'Which country was the Caesar salad invented in? c\n",
            "Sorry but c is wrong, you should study more\n",
            "0\n",
            "'Harry Potter was born in year: ? c\n",
            "Sorry but c is wrong, you should study more\n",
            "0\n",
            "You got 0 out of 5\n"
          ],
          "name": "stdout"
        }
      ]
    }
  ]
}