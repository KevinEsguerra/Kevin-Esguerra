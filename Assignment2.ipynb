{
  "nbformat": 4,
  "nbformat_minor": 0,
  "metadata": {
    "colab": {
      "name": "Assignment2.ipynb",
      "version": "0.3.2",
      "provenance": [],
      "collapsed_sections": [],
      "include_colab_link": true
    },
    "kernelspec": {
      "name": "python3",
      "display_name": "Python 3"
    }
  },
  "cells": [
    {
      "cell_type": "markdown",
      "metadata": {
        "id": "view-in-github",
        "colab_type": "text"
      },
      "source": [
        "<a href=\"https://colab.research.google.com/github/KevinEsguerra/Kevin-Esguerra/blob/master/Assignment2.ipynb\" target=\"_parent\"><img src=\"https://colab.research.google.com/assets/colab-badge.svg\" alt=\"Open In Colab\"/></a>"
      ]
    },
    {
      "cell_type": "markdown",
      "metadata": {
        "id": "keAhe194Y7It",
        "colab_type": "text"
      },
      "source": [
        "Hello there, my name is Kevin and I'm interested in learning python and data science. I have market research and data analysis experience but have very little experience with programming. I'm currently enrolled at Nova Institute's Python for Data Science course. \n",
        "\n",
        "The course is getting more challenging and tougher. We just covered class and objects. For this week's assignment (our second assignment), we have to create a program that asks user to either search or register a book. "
      ]
    },
    {
      "cell_type": "code",
      "metadata": {
        "id": "9AXeXXlJatH8",
        "colab_type": "code",
        "colab": {}
      },
      "source": [
        "class Book:\n",
        "  def __init__(self, title, author):\n",
        "      self.title = title\n",
        "      self.author = author"
      ],
      "execution_count": 0,
      "outputs": []
    },
    {
      "cell_type": "code",
      "metadata": {
        "id": "UW34ycuiONnK",
        "colab_type": "code",
        "outputId": "94dbe438-28d9-4f71-816c-4906bd50d3f6",
        "colab": {
          "base_uri": "https://localhost:8080/",
          "height": 370
        }
      },
      "source": [
        "books = []\n",
        "\n",
        "book_register = input('Do you want to search or register a book? ').strip().capitalize()\n",
        "\n",
        "while book_register != 'Exit' and book_register != 'No':\n",
        "  if book_register == 'Register':\n",
        "    book_register = 'Yes'\n",
        "    while book_register == 'Yes':\n",
        "      book_title = input('Book Title: ')\n",
        "      book_author = input('Book Author: ')\n",
        "      book_register = input('Do you want to register another book?: ').strip().capitalize()\n",
        "      favourite_book = Book(book_title, book_author)\n",
        "      books.append(favourite_book)\n",
        "      for b in books:\n",
        "        print('You registered ' + b.title, 'by ' + b.author)\n",
        "  elif book_register == 'Search' or book_register == 'search':\n",
        "    book_title = input('Book Title: ')\n",
        "    book_author = input('Book Author: ')\n",
        "    print('You searched ' + book_title, 'by ' + book_author)\n",
        "      \n",
        "  book_register = input('Do you want to search or register a book? Type \"Exit\" to exit ').strip().capitalize()"
      ],
      "execution_count": 0,
      "outputs": [
        {
          "output_type": "stream",
          "text": [
            "Do you want to search or register a book? register\n",
            "Book Title: The Chrysalids\n",
            "Book Author: John Wyndham\n",
            "Do you want to register another book?: yes\n",
            "You registered The Chrysalids by John Wyndham\n",
            "Book Title: Fantastic Beasts and Where to Find Them\n",
            "Book Author:  J.K Rowling\n",
            "Do you want to register another book?: yes\n",
            "You registered The Chrysalids by John Wyndham\n",
            "You registered Fantastic Beasts and Where to Find Them by  J.K Rowling\n",
            "Book Title: Crazy Rich Asians\n",
            "Book Author: Kevin Kwan\n",
            "Do you want to register another book?: no\n",
            "You registered The Chrysalids by John Wyndham\n",
            "You registered Fantastic Beasts and Where to Find Them by  J.K Rowling\n",
            "You registered Crazy Rich Asians by Kevin Kwan\n",
            "Do you want to search or register a book? Type \"Exit\" to exit search\n",
            "Book Title: Brave New World\n",
            "Book Author: Aldous Huxley\n",
            "You searched Brave New World by Aldous Huxley\n",
            "Do you want to search or register a book? Type \"Exit\" to exit exit\n"
          ],
          "name": "stdout"
        }
      ]
    }
  ]
}