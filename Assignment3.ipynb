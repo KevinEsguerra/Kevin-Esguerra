{
  "nbformat": 4,
  "nbformat_minor": 0,
  "metadata": {
    "colab": {
      "name": "Assignment3.ipynb",
      "version": "0.3.2",
      "provenance": [],
      "collapsed_sections": [],
      "include_colab_link": true
    },
    "kernelspec": {
      "name": "python3",
      "display_name": "Python 3"
    }
  },
  "cells": [
    {
      "cell_type": "markdown",
      "metadata": {
        "id": "view-in-github",
        "colab_type": "text"
      },
      "source": [
        "<a href=\"https://colab.research.google.com/github/KevinEsguerra/Kevin-Esguerra/blob/master/Assignment3.ipynb\" target=\"_parent\"><img src=\"https://colab.research.google.com/assets/colab-badge.svg\" alt=\"Open In Colab\"/></a>"
      ]
    },
    {
      "cell_type": "markdown",
      "metadata": {
        "id": "52qDllwBHTou",
        "colab_type": "text"
      },
      "source": [
        "Hi there! My name is Kevin and I'm currently a student at Nova Institute. For this week's assignment, we created plots and images using numpy arrays and matplotlib. "
      ]
    },
    {
      "cell_type": "code",
      "metadata": {
        "id": "_c9UWStH6Ea5",
        "colab_type": "code",
        "colab": {}
      },
      "source": [
        "import numpy as np\n",
        "import matplotlib.pyplot as plt"
      ],
      "execution_count": 0,
      "outputs": []
    },
    {
      "cell_type": "code",
      "metadata": {
        "id": "9zhdkUwg2ukO",
        "colab_type": "code",
        "colab": {}
      },
      "source": [
        "cell_prices = [85, 150, 200, 240, 255]\n",
        "cell_amount = [1, 2, 3, 4, 5]"
      ],
      "execution_count": 0,
      "outputs": []
    },
    {
      "cell_type": "code",
      "metadata": {
        "id": "7a-QEsZH59Me",
        "colab_type": "code",
        "outputId": "bcdccc32-f515-4850-ed12-996bfe99922d",
        "colab": {
          "base_uri": "https://localhost:8080/",
          "height": 50
        }
      },
      "source": [
        "print(cell_prices)\n",
        "print(cell_amount)"
      ],
      "execution_count": 210,
      "outputs": [
        {
          "output_type": "stream",
          "text": [
            "[85, 150, 200, 240, 255]\n",
            "[1, 2, 3, 4, 5]\n"
          ],
          "name": "stdout"
        }
      ]
    },
    {
      "cell_type": "code",
      "metadata": {
        "id": "0nscziOL6Lxe",
        "colab_type": "code",
        "colab": {}
      },
      "source": [
        "prices = np.array(cell_prices)\n",
        "amount = np.array(cell_amount)"
      ],
      "execution_count": 0,
      "outputs": []
    },
    {
      "cell_type": "code",
      "metadata": {
        "id": "46PAJG_y6iRW",
        "colab_type": "code",
        "outputId": "c9440f43-2215-4765-cc3a-8783b5f77891",
        "colab": {
          "base_uri": "https://localhost:8080/",
          "height": 50
        }
      },
      "source": [
        "print(prices)\n",
        "print(amount)"
      ],
      "execution_count": 212,
      "outputs": [
        {
          "output_type": "stream",
          "text": [
            "[ 85 150 200 240 255]\n",
            "[1 2 3 4 5]\n"
          ],
          "name": "stdout"
        }
      ]
    },
    {
      "cell_type": "markdown",
      "metadata": {
        "id": "hCi8myYc1xvC",
        "colab_type": "text"
      },
      "source": [
        "**Regular Cell phone price**"
      ]
    },
    {
      "cell_type": "code",
      "metadata": {
        "id": "z1EdEugT_08V",
        "colab_type": "code",
        "outputId": "8907c610-3eca-460e-ce1c-d726936f555d",
        "colab": {
          "base_uri": "https://localhost:8080/",
          "height": 295
        }
      },
      "source": [
        "plt.plot(amount, prices, 'bp--')\n",
        "plt.xlabel('amount')\n",
        "plt.ylabel('price')\n",
        "plt.xlim(left = 1)\n",
        "plt.xticks(np.arange(1, 6))\n",
        "plt.title('Cell Phone Prices')\n",
        "plt.show()"
      ],
      "execution_count": 222,
      "outputs": [
        {
          "output_type": "display_data",
          "data": {
            "image/png": "[encoded data removed]",
            "text/plain": [
              "<Figure size 432x288 with 1 Axes>"
            ]
          },
          "metadata": {
            "tags": []
          }
        }
      ]
    },
    {
      "cell_type": "code",
      "metadata": {
        "id": "rEJbOZXRWOkc",
        "colab_type": "code",
        "colab": {}
      },
      "source": [
        "discount = np.array(cell_prices) - (np.array(cell_prices) * .2)\n"
      ],
      "execution_count": 0,
      "outputs": []
    },
    {
      "cell_type": "code",
      "metadata": {
        "id": "5QAM5T89isE1",
        "colab_type": "code",
        "outputId": "0f9b7aed-d421-4ae8-8d5d-f5ae3cd85925",
        "colab": {
          "base_uri": "https://localhost:8080/",
          "height": 34
        }
      },
      "source": [
        "print(discount)"
      ],
      "execution_count": 215,
      "outputs": [
        {
          "output_type": "stream",
          "text": [
            "[ 68. 120. 160. 192. 204.]\n"
          ],
          "name": "stdout"
        }
      ]
    },
    {
      "cell_type": "markdown",
      "metadata": {
        "id": "0V7HYfQn2Ect",
        "colab_type": "text"
      },
      "source": [
        "**Cell phone price with20% Discount**"
      ]
    },
    {
      "cell_type": "code",
      "metadata": {
        "id": "-YRNjpymgI1x",
        "colab_type": "code",
        "outputId": "35c136cc-91d0-4c3f-e3f1-d38a155de325",
        "colab": {
          "base_uri": "https://localhost:8080/",
          "height": 295
        }
      },
      "source": [
        "plt.plot(amount, discount, 'r*--')\n",
        "plt.xlabel('amount')\n",
        "plt.ylabel('discounted price')\n",
        "plt.xlim(left = 1)\n",
        "plt.xticks(np.arange(1, 6))\n",
        "plt.title('Discounted Cell Phones')\n",
        "plt.show()"
      ],
      "execution_count": 223,
      "outputs": [
        {
          "output_type": "display_data",
          "data": {
            "image/png": "[encoded data removed]",
            "text/plain": [
              "<Figure size 432x288 with 1 Axes>"
            ]
          },
          "metadata": {
            "tags": []
          }
        }
      ]
    },
    {
      "cell_type": "markdown",
      "metadata": {
        "id": "OTvRdXSv2LX6",
        "colab_type": "text"
      },
      "source": [
        "**Regular price vs 20% off discount comparison**"
      ]
    },
    {
      "cell_type": "code",
      "metadata": {
        "id": "zugfoIIvaJtC",
        "colab_type": "code",
        "outputId": "70b1b896-e1dd-46bc-aa08-fc5466c3ae5b",
        "colab": {
          "base_uri": "https://localhost:8080/",
          "height": 295
        }
      },
      "source": [
        "plt.plot(prices, 'bp--')\n",
        "plt.plot(discount, 'r*--')\n",
        "plt.xlabel('amount')\n",
        "plt.ylabel('price')\n",
        "plt.xlim(left = 1)\n",
        "plt.xticks(ticks=[0, 1, 2, 3, 4], labels=[1, 2, 3, 4,5])\n",
        "plt.title('Regular Price vs 20% off discount')\n",
        "plt.legend(labels=['Regular price', '20% off discount'], loc='lower right')\n",
        "plt.show()"
      ],
      "execution_count": 224,
      "outputs": [
        {
          "output_type": "display_data",
          "data": {
            "image/png": "[encoded data removed]",
            "text/plain": [
              "<Figure size 432x288 with 1 Axes>"
            ]
          },
          "metadata": {
            "tags": []
          }
        }
      ]
    },
    {
      "cell_type": "markdown",
      "metadata": {
        "id": "bdw9P40p65JQ",
        "colab_type": "text"
      },
      "source": [
        "**Numpy arrays as images using the imshow() function**"
      ]
    },
    {
      "cell_type": "code",
      "metadata": {
        "id": "FQhl-Rr76rEk",
        "colab_type": "code",
        "colab": {}
      },
      "source": [
        "alist = np.array([[0, 0, 0, 0, 0, 0, 0, 0, 0],\n",
        "                  [0, 0, 0, 100, 100, 100, 0, 0, 0],\n",
        "                  [0, 0, 100, 150, 250, 150, 100, 0, 0],\n",
        "                  [0, 100, 150, 250, 350, 250, 150, 100, 0],\n",
        "                  [100, 150, 250, 350, 550, 350, 250, 150, 100],\n",
        "                  [0, 100, 150, 250, 350, 250, 150, 100, 0],\n",
        "                  [0, 0, 100, 150, 250, 150, 100, 0, 0],\n",
        "                  [0, 0, 0, 100, 100, 100, 0, 0, 0],\n",
        "                  [0, 0, 0, 0, 0, 0, 0, 0, 0]])"
      ],
      "execution_count": 0,
      "outputs": []
    },
    {
      "cell_type": "code",
      "metadata": {
        "id": "Q2-n0yspy56_",
        "colab_type": "code",
        "colab": {
          "base_uri": "https://localhost:8080/",
          "height": 185
        },
        "outputId": "10b6c37d-93dd-4551-c3ea-d652c97b1284"
      },
      "source": [
        "print(new_image)\n",
        "print(type(new_image))"
      ],
      "execution_count": 219,
      "outputs": [
        {
          "output_type": "stream",
          "text": [
            "[[  0   0   0   0   0   0   0   0   0]\n",
            " [  0   0   0 100 100 100   0   0   0]\n",
            " [  0   0 100 150 250 150 100   0   0]\n",
            " [  0 100 150 250 350 250 150 100   0]\n",
            " [100 150 250 350 550 350 250 150 100]\n",
            " [  0 100 150 250 350 250 150 100   0]\n",
            " [  0   0 100 150 250 150 100   0   0]\n",
            " [  0   0   0 100 100 100   0   0   0]\n",
            " [  0   0   0   0   0   0   0   0   0]]\n",
            "<class 'numpy.ndarray'>\n"
          ],
          "name": "stdout"
        }
      ]
    },
    {
      "cell_type": "code",
      "metadata": {
        "id": "8b9MQn_f8i70",
        "colab_type": "code",
        "colab": {
          "base_uri": "https://localhost:8080/",
          "height": 269
        },
        "outputId": "b039caf1-4a18-4dee-febf-ebcddca84ed5"
      },
      "source": [
        "plt.imshow(new_image)\n",
        "plt.colorbar()\n",
        "plt.show()"
      ],
      "execution_count": 220,
      "outputs": [
        {
          "output_type": "display_data",
          "data": {
            "image/png": "[encoded data removed]",
            "text/plain": [
              "<Figure size 432x288 with 2 Axes>"
            ]
          },
          "metadata": {
            "tags": []
          }
        }
      ]
    }
  ]
}